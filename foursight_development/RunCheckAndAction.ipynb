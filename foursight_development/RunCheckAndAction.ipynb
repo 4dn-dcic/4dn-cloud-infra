{
 "cells": [
  {
   "cell_type": "markdown",
   "metadata": {},
   "source": [
    "# Testing Foursight Checks\n",
    "* This notebook provides a list of parameters you can tweak while you are testing your foursight code locally.\n",
    "* You can also use this notebook to run available checks locally for longer then 15 min\n",
    "* Autoreload of modules is also enabled, so code changes don't require rebooting the kernel.\n",
    "* Please copy the notebook before editing; all notebooks except this one will be ignored by github."
   ]
  },
  {
   "cell_type": "code",
   "execution_count": null,
   "metadata": {},
   "outputs": [],
   "source": [
    "# NEED TO RUN ONCE\n",
    "%load_ext autoreload\n",
    "import logging, sys, json\n",
    "logging.disable(sys.maxsize)"
   ]
  },
  {
   "cell_type": "code",
   "execution_count": null,
   "metadata": {
    "scrolled": false
   },
   "outputs": [],
   "source": [
    "%autoreload 2\n",
    "from foursight_development import development_app as app\n",
    "\n",
    "\n",
    "check = \"ecs_checks/ecs_status\"  # Formatted \"check_file/check\"\n",
    "check_parameters = {\"primary\": True}\n",
    "\n",
    "action = \"\"  # Formatted \"check_file/action\"\n",
    "\n",
    "stage= 'prod'\n",
    "\n",
    "app.set_stage(stage)\n",
    "app_utils = app.AppUtils()\n",
    "connection = app_utils.init_connection(app.DEFAULT_ENV)\n",
    "\n",
    "check_run = app_utils.check_handler.run_check_or_action(connection, check, check_parameters)\n",
    "result = json.dumps(check_run, indent=4)\n",
    "print(result)\n",
    "uuid = check_run['kwargs']['uuid']"
   ]
  },
  {
   "cell_type": "code",
   "execution_count": null,
   "metadata": {},
   "outputs": [],
   "source": [
    "%autoreload 2\n",
    "from foursight_development import development_app as app\n",
    "\n",
    "\n",
    "# Run action defined above with check results\n",
    "action_params = {'check_name': check.split('/')[1], 'called_by': uuid}\n",
    "action_run = app_utils.check_handler.run_check_or_action(connection, action, action_params)\n",
    "result = json.dumps(action_run, indent=4)\n",
    "print(result)"
   ]
  }
 ],
 "metadata": {
  "kernelspec": {
   "display_name": "Python 3 (ipykernel)",
   "language": "python",
   "name": "python3"
  },
  "language_info": {
   "codemirror_mode": {
    "name": "ipython",
    "version": 3
   },
   "file_extension": ".py",
   "mimetype": "text/x-python",
   "name": "python",
   "nbconvert_exporter": "python",
   "pygments_lexer": "ipython3",
   "version": "3.7.12"
  }
 },
 "nbformat": 4,
 "nbformat_minor": 2
}
